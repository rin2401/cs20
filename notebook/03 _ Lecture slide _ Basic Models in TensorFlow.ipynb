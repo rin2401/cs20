{
 "cells": [
  {
   "cell_type": "code",
   "execution_count": 56,
   "metadata": {},
   "outputs": [],
   "source": [
    "import os\n",
    "os.environ['TF_CPP_MIN_LOG_LEVEL']='2'\n",
    "import time\n",
    "\n",
    "import numpy as np\n",
    "import matplotlib.pyplot as plt\n",
    "import tensorflow as tf"
   ]
  },
  {
   "cell_type": "markdown",
   "metadata": {},
   "source": [
    "# Linear Regresstion"
   ]
  },
  {
   "cell_type": "code",
   "execution_count": 2,
   "metadata": {},
   "outputs": [],
   "source": [
    "def read_birth_life_data(filename):\n",
    "    \"\"\"\n",
    "    Read in birth_life_2010.txt and return:\n",
    "    data in the form of NumPy array\n",
    "    n_samples: number of samples\n",
    "    \"\"\"\n",
    "    text = open(filename, 'r').readlines()[1:]\n",
    "    data = [line[:-1].split('\\t') for line in text]\n",
    "    births = [float(line[1]) for line in data]\n",
    "    lifes = [float(line[2]) for line in data]\n",
    "    data = list(zip(births, lifes))\n",
    "    n_samples = len(data)\n",
    "    data = np.asarray(data, dtype=np.float32)\n",
    "    return data, n_samples"
   ]
  },
  {
   "cell_type": "code",
   "execution_count": 3,
   "metadata": {},
   "outputs": [
    {
     "data": {
      "text/plain": [
       "(190, array([[ 1.822   , 74.82825 ],\n",
       "        [ 3.869   , 70.81949 ],\n",
       "        [ 3.911   , 72.15066 ],\n",
       "        [ 5.578   , 61.999855],\n",
       "        [ 1.579   , 73.92766 ]], dtype=float32))"
      ]
     },
     "execution_count": 3,
     "metadata": {},
     "output_type": "execute_result"
    }
   ],
   "source": [
    "DATA_FILE = 'data/birth_life_2010.txt'\n",
    "data, n_samples = read_birth_life_data(DATA_FILE)\n",
    "n_samples, data[:5]"
   ]
  },
  {
   "cell_type": "code",
   "execution_count": null,
   "metadata": {},
   "outputs": [],
   "source": [
    "x = tf.placeholder(tf.float32, shape=None, name=\"x\")\n",
    "y = tf.placeholder(tf.float32, shape=None, name=\"y\")\n",
    "w = tf.get_variable(name=\"w\", initializer=1.)\n",
    "b = tf.get_variable(name=\"b\",initializer=1.)\n",
    "y_pred = w * x + b"
   ]
  },
  {
   "cell_type": "markdown",
   "metadata": {},
   "source": [
    "## MSE loss"
   ]
  },
  {
   "cell_type": "code",
   "execution_count": 5,
   "metadata": {},
   "outputs": [],
   "source": [
    "loss = tf.square(y - y_pred, name=\"loss\")\n",
    "opt = tf.train.GradientDescentOptimizer(learning_rate=0.001)\n",
    "optimizer = opt.minimize(loss)"
   ]
  },
  {
   "cell_type": "code",
   "execution_count": 6,
   "metadata": {
    "scrolled": true
   },
   "outputs": [
    {
     "name": "stdout",
     "output_type": "stream",
     "text": [
      "Epoch 0: 1568.9692803520122\n",
      "Epoch 1: 942.3385196983814\n",
      "Epoch 2: 832.811796224431\n",
      "Epoch 3: 740.2402580444553\n",
      "Epoch 4: 658.3754464801989\n",
      "Epoch 5: 585.9248550408765\n",
      "Epoch 6: 521.8070225622995\n",
      "Epoch 7: 465.0646173995576\n",
      "Epoch 8: 414.8506003169637\n",
      "Epoch 9: 370.4145057224325\n",
      "Epoch 10: 331.0936166469253\n",
      "Epoch 11: 296.2993743072485\n",
      "Epoch 12: 265.5116946970434\n",
      "Epoch 13: 238.2702335912146\n",
      "Epoch 14: 214.16700077005908\n",
      "Epoch 15: 192.84110705986845\n",
      "Epoch 16: 173.97367574083648\n",
      "Epoch 17: 157.2819040422769\n",
      "Epoch 18: 142.5156432926851\n",
      "Epoch 19: 129.45341144360995\n",
      "Epoch 20: 117.8989040715914\n",
      "Epoch 21: 107.67870211957243\n",
      "Epoch 22: 98.63963077073231\n",
      "Epoch 23: 90.64455458763007\n",
      "Epoch 24: 83.57465429066337\n",
      "Epoch 25: 77.32281445565413\n",
      "Epoch 26: 71.79440666188142\n",
      "Epoch 27: 66.90659510796694\n",
      "Epoch 28: 62.58535183131523\n",
      "Epoch 29: 58.76519675430303\n",
      "Epoch 30: 55.38838906633349\n",
      "Epoch 31: 52.404082686117675\n",
      "Epoch 32: 49.766598797239375\n",
      "Epoch 33: 47.4358592791299\n",
      "Epoch 34: 45.37666187658416\n",
      "Epoch 35: 43.557437158687236\n",
      "Epoch 36: 41.95038984585676\n",
      "Epoch 37: 40.53125834643847\n",
      "Epoch 38: 39.27797714881109\n",
      "Epoch 39: 38.17149333346598\n",
      "Epoch 40: 37.19497829124111\n",
      "Epoch 41: 36.332852153187176\n",
      "Epoch 42: 35.57230594666111\n",
      "Epoch 43: 34.90115375333269\n",
      "Epoch 44: 34.30934173605944\n",
      "Epoch 45: 33.78740785329903\n",
      "Epoch 46: 33.32745785564828\n",
      "Epoch 47: 32.92212039721934\n",
      "Epoch 48: 32.56501901437969\n",
      "Epoch 49: 32.25057682988577\n",
      "Epoch 50: 31.973537302843148\n",
      "Epoch 51: 31.729951298124107\n",
      "Epoch 52: 31.51557882078372\n",
      "Epoch 53: 31.32700990199381\n",
      "Epoch 54: 31.161372710030072\n",
      "Epoch 55: 31.015817416722253\n",
      "Epoch 56: 30.88807478183582\n",
      "Epoch 57: 30.77592929064941\n",
      "Epoch 58: 30.677605982736903\n",
      "Epoch 59: 30.591506138712315\n",
      "Epoch 60: 30.516055095944505\n",
      "Epoch 61: 30.450083007859558\n",
      "Epoch 62: 30.392445530078533\n",
      "Epoch 63: 30.342052236063356\n",
      "Epoch 64: 30.298148885234504\n",
      "Epoch 65: 30.259887603979166\n",
      "Epoch 66: 30.226613323155203\n",
      "Epoch 67: 30.197652555967828\n",
      "Epoch 68: 30.172621414673785\n",
      "Epoch 69: 30.15087924415129\n",
      "Epoch 70: 30.132062388179627\n",
      "Epoch 71: 30.11589817906252\n",
      "Epoch 72: 30.10193463819083\n",
      "Epoch 73: 30.089989761135687\n",
      "Epoch 74: 30.079780542242684\n",
      "Epoch 75: 30.07109381189864\n",
      "Epoch 76: 30.063714757714862\n",
      "Epoch 77: 30.057438822976607\n",
      "Epoch 78: 30.052203892302504\n",
      "Epoch 79: 30.04784354972898\n",
      "Epoch 80: 30.044172558777866\n",
      "Epoch 81: 30.04117437237261\n",
      "Epoch 82: 30.038763631132163\n",
      "Epoch 83: 30.03683012674967\n",
      "Epoch 84: 30.035337081006546\n",
      "Epoch 85: 30.034168877071274\n",
      "Epoch 86: 30.033299266101523\n",
      "Epoch 87: 30.032737745550588\n",
      "Epoch 88: 30.032322423828926\n",
      "Epoch 89: 30.03216046346298\n",
      "Epoch 90: 30.03210514838697\n",
      "Epoch 91: 30.03220280095457\n",
      "Epoch 92: 30.03241093396454\n",
      "Epoch 93: 30.032697830809354\n",
      "Epoch 94: 30.03305548058308\n",
      "Epoch 95: 30.033505873051226\n",
      "Epoch 96: 30.033966193683323\n",
      "Epoch 97: 30.034495027143336\n",
      "Epoch 98: 30.03500556362499\n",
      "Epoch 99: 30.035584107562165\n",
      "Took: 7.075126 seconds\n"
     ]
    }
   ],
   "source": [
    "start = time.time()\n",
    "with tf.Session() as sess:\n",
    "    writer = tf.summary.FileWriter('./graphs/linear_reg', sess.graph)\n",
    "    sess.run(tf.global_variables_initializer())\n",
    "    for i in range(100):\n",
    "        total_loss = 0\n",
    "        for x_, y_ in data:\n",
    "            _, loss_ = sess.run([optimizer, loss], feed_dict = {x: x_, y: y_})\n",
    "            total_loss += loss_\n",
    "        print('Epoch {0}: {1}'.format(i, total_loss/n_samples))\n",
    "   \n",
    "    writer.close()\n",
    "    w_out, b_out = w.eval(), b.eval()\n",
    "\n",
    "print('Took: %f seconds' %(time.time() - start))"
   ]
  },
  {
   "cell_type": "code",
   "execution_count": 7,
   "metadata": {
    "scrolled": false
   },
   "outputs": [
    {
     "data": {
      "text/plain": [
       "(-6.0705147, 84.930885)"
      ]
     },
     "execution_count": 7,
     "metadata": {},
     "output_type": "execute_result"
    }
   ],
   "source": [
    "w_out, b_out"
   ]
  },
  {
   "cell_type": "code",
   "execution_count": 8,
   "metadata": {
    "scrolled": true
   },
   "outputs": [
    {
     "data": {
      "image/png": "[encoded data removed]",
      "text/plain": [
       "<Figure size 432x288 with 1 Axes>"
      ]
     },
     "metadata": {
      "needs_background": "light"
     },
     "output_type": "display_data"
    }
   ],
   "source": [
    "plt.plot(data[:,0], data[:,1], 'bo', label='Real data')\n",
    "plt.plot(data[:,0], data[:,0] * w_out + b_out, 'r', label='Predicted data')\n",
    "plt.legend()\n",
    "plt.show()"
   ]
  },
  {
   "cell_type": "markdown",
   "metadata": {},
   "source": [
    "## Huber loss"
   ]
  },
  {
   "cell_type": "code",
   "execution_count": 9,
   "metadata": {},
   "outputs": [],
   "source": [
    "def huber_loss(labels, predictions, delta=14.0):\n",
    "    residual = tf.abs(labels - predictions)\n",
    "    def f1(): return 0.5 *  tf.square(residual)\n",
    "    def f2(): return delta*residual - 0.5 * tf.square(delta)\n",
    "    return tf.cond(residual <= delta, f1, f2)"
   ]
  },
  {
   "cell_type": "code",
   "execution_count": 10,
   "metadata": {},
   "outputs": [],
   "source": [
    "loss = huber_loss(y, y_pred)\n",
    "opt = tf.train.GradientDescentOptimizer(learning_rate=0.001)\n",
    "optimizer = opt.minimize(loss)"
   ]
  },
  {
   "cell_type": "code",
   "execution_count": 36,
   "metadata": {
    "scrolled": true
   },
   "outputs": [
    {
     "name": "stdout",
     "output_type": "stream",
     "text": [
      "Epoch 0: 1568.9692803520122\n",
      "Epoch 1: 942.3385196983814\n",
      "Epoch 2: 832.811796224431\n",
      "Epoch 3: 740.2402580444553\n",
      "Epoch 4: 658.3754464801989\n",
      "Epoch 5: 585.9248550408765\n",
      "Epoch 6: 521.8070225622995\n",
      "Epoch 7: 465.0646173995576\n",
      "Epoch 8: 414.8506003169637\n",
      "Epoch 9: 370.4145057224325\n",
      "Epoch 10: 331.0936166469253\n",
      "Epoch 11: 296.2993743072485\n",
      "Epoch 12: 265.5116946970434\n",
      "Epoch 13: 238.2702335912146\n",
      "Epoch 14: 214.16700077005908\n",
      "Epoch 15: 192.84110705986845\n",
      "Epoch 16: 173.97367574083648\n",
      "Epoch 17: 157.2819040422769\n",
      "Epoch 18: 142.5156432926851\n",
      "Epoch 19: 129.45341144360995\n",
      "Epoch 20: 117.8989040715914\n",
      "Epoch 21: 107.67870211957243\n",
      "Epoch 22: 98.63963077073231\n",
      "Epoch 23: 90.64455458763007\n",
      "Epoch 24: 83.57465429066337\n",
      "Epoch 25: 77.32281445565413\n",
      "Epoch 26: 71.79440666188142\n",
      "Epoch 27: 66.90659510796694\n",
      "Epoch 28: 62.58535183131523\n",
      "Epoch 29: 58.76519675430303\n",
      "Epoch 30: 55.38838906633349\n",
      "Epoch 31: 52.404082686117675\n",
      "Epoch 32: 49.766598797239375\n",
      "Epoch 33: 47.4358592791299\n",
      "Epoch 34: 45.37666187658416\n",
      "Epoch 35: 43.557437158687236\n",
      "Epoch 36: 41.95038984585676\n",
      "Epoch 37: 40.53125834643847\n",
      "Epoch 38: 39.27797714881109\n",
      "Epoch 39: 38.17149333346598\n",
      "Epoch 40: 37.19497829124111\n",
      "Epoch 41: 36.332852153187176\n",
      "Epoch 42: 35.57230594666111\n",
      "Epoch 43: 34.90115375333269\n",
      "Epoch 44: 34.30934173605944\n",
      "Epoch 45: 33.78740785329903\n",
      "Epoch 46: 33.32745785564828\n",
      "Epoch 47: 32.92212039721934\n",
      "Epoch 48: 32.56501901437969\n",
      "Epoch 49: 32.25057682988577\n",
      "Epoch 50: 31.973537302843148\n",
      "Epoch 51: 31.729951298124107\n",
      "Epoch 52: 31.51557882078372\n",
      "Epoch 53: 31.32700990199381\n",
      "Epoch 54: 31.161372710030072\n",
      "Epoch 55: 31.015817416722253\n",
      "Epoch 56: 30.88807478183582\n",
      "Epoch 57: 30.77592929064941\n",
      "Epoch 58: 30.677605982736903\n",
      "Epoch 59: 30.591506138712315\n",
      "Epoch 60: 30.516055095944505\n",
      "Epoch 61: 30.450083007859558\n",
      "Epoch 62: 30.392445530078533\n",
      "Epoch 63: 30.342052236063356\n",
      "Epoch 64: 30.298148885234504\n",
      "Epoch 65: 30.259887603979166\n",
      "Epoch 66: 30.226613323155203\n",
      "Epoch 67: 30.197652555967828\n",
      "Epoch 68: 30.172621414673785\n",
      "Epoch 69: 30.15087924415129\n",
      "Epoch 70: 30.132062388179627\n",
      "Epoch 71: 30.11589817906252\n",
      "Epoch 72: 30.10193463819083\n",
      "Epoch 73: 30.089989761135687\n",
      "Epoch 74: 30.079780542242684\n",
      "Epoch 75: 30.07109381189864\n",
      "Epoch 76: 30.063714757714862\n",
      "Epoch 77: 30.057438822976607\n",
      "Epoch 78: 30.052203892302504\n",
      "Epoch 79: 30.04784354972898\n",
      "Epoch 80: 30.044172558777866\n",
      "Epoch 81: 30.04117437237261\n",
      "Epoch 82: 30.038763631132163\n",
      "Epoch 83: 30.03683012674967\n",
      "Epoch 84: 30.035337081006546\n",
      "Epoch 85: 30.034168877071274\n",
      "Epoch 86: 30.033299266101523\n",
      "Epoch 87: 30.032737745550588\n",
      "Epoch 88: 30.032322423828926\n",
      "Epoch 89: 30.03216046346298\n",
      "Epoch 90: 30.03210514838697\n",
      "Epoch 91: 30.03220280095457\n",
      "Epoch 92: 30.03241093396454\n",
      "Epoch 93: 30.032697830809354\n",
      "Epoch 94: 30.03305548058308\n",
      "Epoch 95: 30.033505873051226\n",
      "Epoch 96: 30.033966193683323\n",
      "Epoch 97: 30.034495027143336\n",
      "Epoch 98: 30.03500556362499\n",
      "Epoch 99: 30.035584107562165\n",
      "Took: 6.940437 seconds\n"
     ]
    }
   ],
   "source": [
    "start = time.time()\n",
    "with tf.Session() as sess:\n",
    "    writer = tf.summary.FileWriter('./graphs/linear_reg', sess.graph)\n",
    "    sess.run(tf.global_variables_initializer())\n",
    "    for i in range(100):\n",
    "        total_loss = 0\n",
    "        for x_, y_ in data:\n",
    "            _, loss_ = sess.run([optimizer, loss], feed_dict = {x: x_, y: y_})\n",
    "            total_loss += loss_\n",
    "        print('Epoch {0}: {1}'.format(i, total_loss/n_samples))\n",
    "   \n",
    "    writer.close()\n",
    "    w_out, b_out = w.eval(), b.eval()\n",
    "\n",
    "print('Took: %f seconds' %(time.time() - start))"
   ]
  },
  {
   "cell_type": "code",
   "execution_count": 12,
   "metadata": {
    "scrolled": false
   },
   "outputs": [
    {
     "data": {
      "text/plain": [
       "(-4.2700043, 78.66997)"
      ]
     },
     "execution_count": 12,
     "metadata": {},
     "output_type": "execute_result"
    }
   ],
   "source": [
    "w_out, b_out"
   ]
  },
  {
   "cell_type": "code",
   "execution_count": 13,
   "metadata": {
    "scrolled": true
   },
   "outputs": [
    {
     "data": {
      "image/png": "[encoded data removed]",
      "text/plain": [
       "<Figure size 432x288 with 1 Axes>"
      ]
     },
     "metadata": {
      "needs_background": "light"
     },
     "output_type": "display_data"
    }
   ],
   "source": [
    "plt.plot(data[:,0], data[:,1], 'bo', label='Real data')\n",
    "plt.plot(data[:,0], data[:,0] * w_out + b_out, 'r', label='Predicted data')\n",
    "plt.legend()\n",
    "plt.show()"
   ]
  },
  {
   "cell_type": "markdown",
   "metadata": {},
   "source": [
    "# tf.data"
   ]
  },
  {
   "cell_type": "code",
   "execution_count": 16,
   "metadata": {},
   "outputs": [
    {
     "name": "stdout",
     "output_type": "stream",
     "text": [
      "(tf.float32, tf.float32)\n",
      "(TensorShape([]), TensorShape([]))\n"
     ]
    }
   ],
   "source": [
    "dataset = tf.data.Dataset.from_tensor_slices((data[:,0], data[:,1]))\n",
    "print(dataset.output_types)\n",
    "print(dataset.output_shapes)"
   ]
  },
  {
   "cell_type": "code",
   "execution_count": 18,
   "metadata": {},
   "outputs": [],
   "source": [
    "# tf.data.TextLineDataset(filenames)\n",
    "# tf.data.FixedLengthRecordDataset(filenames)\n",
    "# tf.data.TFRecordDataset(filenames)"
   ]
  },
  {
   "cell_type": "code",
   "execution_count": 19,
   "metadata": {},
   "outputs": [],
   "source": [
    "# iterator = dataset.make_one_shot_iterator()\n",
    "# iterator = dataset.make_initializable_iterator()"
   ]
  },
  {
   "cell_type": "code",
   "execution_count": 20,
   "metadata": {},
   "outputs": [
    {
     "name": "stdout",
     "output_type": "stream",
     "text": [
      "[1.822, 74.82825]\n",
      "[3.869, 70.81949]\n",
      "[3.911, 72.15066]\n"
     ]
    }
   ],
   "source": [
    "iterator = dataset.make_one_shot_iterator()\n",
    "X, Y = iterator.get_next()  # X is the birth rate, Y is the life expectancy\n",
    "with tf.Session() as sess:\n",
    "    print(sess.run([X, Y])) # >> [1.822, 74.82825]\n",
    "    print(sess.run([X, Y])) # >> [3.869, 70.81949]\n",
    "    print(sess.run([X, Y])) # >> [3.911, 72.15066]\n"
   ]
  },
  {
   "cell_type": "code",
   "execution_count": 51,
   "metadata": {},
   "outputs": [],
   "source": [
    "tf.reset_default_graph()\n",
    "dataset = tf.data.Dataset.from_tensor_slices((data[:,0], data[:,1]))\n",
    "iterator = dataset.make_initializable_iterator()\n",
    "x, y = iterator.get_next()\n",
    "w = tf.get_variable(name=\"w\", initializer=1.)\n",
    "b = tf.get_variable(name=\"b\",initializer=1.)\n",
    "y_pred = w * x + b\n",
    "loss = tf.square(y - y_pred, name=\"loss\")\n",
    "opt = tf.train.GradientDescentOptimizer(learning_rate=0.001)\n",
    "optimizer = opt.minimize(loss)"
   ]
  },
  {
   "cell_type": "code",
   "execution_count": 53,
   "metadata": {},
   "outputs": [
    {
     "name": "stdout",
     "output_type": "stream",
     "text": [
      "Epoch 0: 1568.9692803520122\n",
      "Epoch 1: 942.3385196983814\n",
      "Epoch 2: 832.811796224431\n",
      "Epoch 3: 740.2402580444553\n",
      "Epoch 4: 658.3754464801989\n",
      "Epoch 5: 585.9248550408765\n",
      "Epoch 6: 521.8070225622995\n",
      "Epoch 7: 465.0646173995576\n",
      "Epoch 8: 414.8506003169637\n",
      "Epoch 9: 370.4145057224325\n",
      "Epoch 10: 331.0936166469253\n",
      "Epoch 11: 296.2993743072485\n",
      "Epoch 12: 265.5116946970434\n",
      "Epoch 13: 238.2702335912146\n",
      "Epoch 14: 214.16700077005908\n",
      "Epoch 15: 192.84110705986845\n",
      "Epoch 16: 173.97367574083648\n",
      "Epoch 17: 157.2819040422769\n",
      "Epoch 18: 142.5156432926851\n",
      "Epoch 19: 129.45341144360995\n",
      "Epoch 20: 117.8989040715914\n",
      "Epoch 21: 107.67870211957243\n",
      "Epoch 22: 98.63963077073231\n",
      "Epoch 23: 90.64455458763007\n",
      "Epoch 24: 83.57465429066337\n",
      "Epoch 25: 77.32281445565413\n",
      "Epoch 26: 71.79440666188142\n",
      "Epoch 27: 66.90659510796694\n",
      "Epoch 28: 62.58535183131523\n",
      "Epoch 29: 58.76519675430303\n",
      "Epoch 30: 55.38838906633349\n",
      "Epoch 31: 52.404082686117675\n",
      "Epoch 32: 49.766598797239375\n",
      "Epoch 33: 47.4358592791299\n",
      "Epoch 34: 45.37666187658416\n",
      "Epoch 35: 43.557437158687236\n",
      "Epoch 36: 41.95038984585676\n",
      "Epoch 37: 40.53125834643847\n",
      "Epoch 38: 39.27797714881109\n",
      "Epoch 39: 38.17149333346598\n",
      "Epoch 40: 37.19497829124111\n",
      "Epoch 41: 36.332852153187176\n",
      "Epoch 42: 35.57230594666111\n",
      "Epoch 43: 34.90115375333269\n",
      "Epoch 44: 34.30934173605944\n",
      "Epoch 45: 33.78740785329903\n",
      "Epoch 46: 33.32745785564828\n",
      "Epoch 47: 32.92212039721934\n",
      "Epoch 48: 32.56501901437969\n",
      "Epoch 49: 32.25057682988577\n",
      "Epoch 50: 31.973537302843148\n",
      "Epoch 51: 31.729951298124107\n",
      "Epoch 52: 31.51557882078372\n",
      "Epoch 53: 31.32700990199381\n",
      "Epoch 54: 31.161372710030072\n",
      "Epoch 55: 31.015817416722253\n",
      "Epoch 56: 30.88807478183582\n",
      "Epoch 57: 30.77592929064941\n",
      "Epoch 58: 30.677605982736903\n",
      "Epoch 59: 30.591506138712315\n",
      "Epoch 60: 30.516055095944505\n",
      "Epoch 61: 30.450083007859558\n",
      "Epoch 62: 30.392445530078533\n",
      "Epoch 63: 30.342052236063356\n",
      "Epoch 64: 30.298148885234504\n",
      "Epoch 65: 30.259887603979166\n",
      "Epoch 66: 30.226613323155203\n",
      "Epoch 67: 30.197652555967828\n",
      "Epoch 68: 30.172621414673785\n",
      "Epoch 69: 30.15087924415129\n",
      "Epoch 70: 30.132062388179627\n",
      "Epoch 71: 30.11589817906252\n",
      "Epoch 72: 30.10193463819083\n",
      "Epoch 73: 30.089989761135687\n",
      "Epoch 74: 30.079780542242684\n",
      "Epoch 75: 30.07109381189864\n",
      "Epoch 76: 30.063714757714862\n",
      "Epoch 77: 30.057438822976607\n",
      "Epoch 78: 30.052203892302504\n",
      "Epoch 79: 30.04784354972898\n",
      "Epoch 80: 30.044172558777866\n",
      "Epoch 81: 30.04117437237261\n",
      "Epoch 82: 30.038763631132163\n",
      "Epoch 83: 30.03683012674967\n",
      "Epoch 84: 30.035337081006546\n",
      "Epoch 85: 30.034168877071274\n",
      "Epoch 86: 30.033299266101523\n",
      "Epoch 87: 30.032737745550588\n",
      "Epoch 88: 30.032322423828926\n",
      "Epoch 89: 30.03216046346298\n",
      "Epoch 90: 30.03210514838697\n",
      "Epoch 91: 30.03220280095457\n",
      "Epoch 92: 30.03241093396454\n",
      "Epoch 93: 30.032697830809354\n",
      "Epoch 94: 30.03305548058308\n",
      "Epoch 95: 30.033505873051226\n",
      "Epoch 96: 30.033966193683323\n",
      "Epoch 97: 30.034495027143336\n",
      "Epoch 98: 30.03500556362499\n",
      "Epoch 99: 30.035584107562165\n",
      "Took: 5.511773 seconds\n"
     ]
    },
    {
     "data": {
      "text/plain": [
       "(-6.0705147, 84.930885)"
      ]
     },
     "execution_count": 53,
     "metadata": {},
     "output_type": "execute_result"
    }
   ],
   "source": [
    "start = time.time()\n",
    "with tf.Session() as sess:\n",
    "    sess.run(tf.global_variables_initializer())\n",
    "    for i in range(100): \n",
    "        sess.run(iterator.initializer) \n",
    "        total_loss = 0\n",
    "        try:\n",
    "            while True:\n",
    "                _, loss_ = sess.run([optimizer, loss])\n",
    "                total_loss += loss_\n",
    "        except tf.errors.OutOfRangeError:\n",
    "            pass\n",
    "        print('Epoch {0}: {1}'.format(i, total_loss/n_samples))\n",
    "    w_out, b_out = w.eval(), b.eval()\n",
    "print('Took: %f seconds' %(time.time() - start))\n",
    "w_out, b_out"
   ]
  },
  {
   "cell_type": "code",
   "execution_count": null,
   "metadata": {},
   "outputs": [],
   "source": [
    "# dataset = dataset.shuffle(1000)\n",
    "# dataset = dataset.repeat(100)\n",
    "# dataset = dataset.batch(128)\n",
    "# dataset = dataset.map(lambda x: tf.one_hot(x, 10)) "
   ]
  },
  {
   "cell_type": "markdown",
   "metadata": {},
   "source": [
    "# Optimizer"
   ]
  },
  {
   "cell_type": "code",
   "execution_count": null,
   "metadata": {},
   "outputs": [],
   "source": [
    "# tf.train.GradientDescentOptimizer\n",
    "# tf.train.AdagradOptimizer\n",
    "# tf.train.MomentumOptimizer\n",
    "# tf.train.AdamOptimizer\n",
    "# tf.train.FtrlOptimizer\n",
    "# tf.train.RMSPropOptimizer"
   ]
  },
  {
   "cell_type": "code",
   "execution_count": 54,
   "metadata": {},
   "outputs": [
    {
     "data": {
      "text/plain": [
       "<tf.Variable 'Variable:0' shape=() dtype=int32_ref>"
      ]
     },
     "execution_count": 54,
     "metadata": {},
     "output_type": "execute_result"
    }
   ],
   "source": [
    "tf.Variable(2, trainable=True)  #trainable variable"
   ]
  },
  {
   "cell_type": "markdown",
   "metadata": {},
   "source": [
    "# MNIST Logistic Regression"
   ]
  },
  {
   "cell_type": "code",
   "execution_count": 78,
   "metadata": {
    "scrolled": true
   },
   "outputs": [],
   "source": [
    "from tensorflow.examples.tutorials.mnist import input_data\n",
    "# MNIST = input_data.read_data_sets('data/mnist', one_hot=True)\n",
    "mnist = tf.keras.datasets.mnist\n",
    "train, test = mnist.load_data()"
   ]
  },
  {
   "cell_type": "code",
   "execution_count": 83,
   "metadata": {},
   "outputs": [
    {
     "name": "stdout",
     "output_type": "stream",
     "text": [
      "(28, 28)\n"
     ]
    }
   ],
   "source": [
    "print(train[0][0].shape)"
   ]
  },
  {
   "cell_type": "code",
   "execution_count": 81,
   "metadata": {},
   "outputs": [],
   "source": [
    "batch_size=10\n",
    "train_data = tf.data.Dataset.from_tensor_slices(train)\n",
    "train_data = train_data.shuffle(10000) # optional\n",
    "train_data = train_data.batch(batch_size)\n",
    "test_data = tf.data.Dataset.from_tensor_slices(test)\n",
    "test_data = test_data.batch(batch_size)"
   ]
  },
  {
   "cell_type": "code",
   "execution_count": 82,
   "metadata": {},
   "outputs": [],
   "source": [
    "iterator = tf.data.Iterator.from_structure(train_data.output_types, \n",
    "                                  train_data.output_shapes)\n",
    "img, label = iterator.get_next()\n",
    "train_init = iterator.make_initializer(train_data)\n",
    "test_init = iterator.make_initializer(test_data)"
   ]
  },
  {
   "cell_type": "code",
   "execution_count": null,
   "metadata": {},
   "outputs": [],
   "source": []
  },
  {
   "cell_type": "code",
   "execution_count": null,
   "metadata": {},
   "outputs": [],
   "source": [
    "entropy = tf.nn.softmax_cross_entropy_with_logits(labels=label, logits=logits)\n",
    "loss = tf.reduce_mean(entropy)\n",
    "tf.train.AdamOptimizer(learning_rate=0.01).minimize(loss)"
   ]
  },
  {
   "cell_type": "code",
   "execution_count": null,
   "metadata": {},
   "outputs": [],
   "source": []
  },
  {
   "cell_type": "code",
   "execution_count": null,
   "metadata": {},
   "outputs": [],
   "source": []
  }
 ],
 "metadata": {
  "kernelspec": {
   "display_name": "Python 3",
   "language": "python",
   "name": "python3"
  },
  "language_info": {
   "codemirror_mode": {
    "name": "ipython",
    "version": 3
   },
   "file_extension": ".py",
   "mimetype": "text/x-python",
   "name": "python",
   "nbconvert_exporter": "python",
   "pygments_lexer": "ipython3",
   "version": "3.5.2"
  }
 },
 "nbformat": 4,
 "nbformat_minor": 2
}
