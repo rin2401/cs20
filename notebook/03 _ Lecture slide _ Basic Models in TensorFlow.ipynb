{
 "cells": [
  {
   "cell_type": "code",
   "execution_count": 1,
   "metadata": {},
   "outputs": [],
   "source": [
    "import os\n",
    "os.environ['TF_CPP_MIN_LOG_LEVEL']='2'\n",
    "import time\n",
    "\n",
    "import numpy as np\n",
    "import matplotlib.pyplot as plt\n",
    "import tensorflow as tf"
   ]
  },
  {
   "cell_type": "markdown",
   "metadata": {},
   "source": [
    "# Linear Regresstion"
   ]
  },
  {
   "cell_type": "code",
   "execution_count": 2,
   "metadata": {},
   "outputs": [],
   "source": [
    "def read_birth_life_data(filename):\n",
    "    \"\"\"\n",
    "    Read in birth_life_2010.txt and return:\n",
    "    data in the form of NumPy array\n",
    "    n_samples: number of samples\n",
    "    \"\"\"\n",
    "    text = open(filename, 'r').readlines()[1:]\n",
    "    data = [line[:-1].split('\\t') for line in text]\n",
    "    births = [float(line[1]) for line in data]\n",
    "    lifes = [float(line[2]) for line in data]\n",
    "    data = list(zip(births, lifes))\n",
    "    n_samples = len(data)\n",
    "    data = np.asarray(data, dtype=np.float32)\n",
    "    return data, n_samples"
   ]
  },
  {
   "cell_type": "code",
   "execution_count": 3,
   "metadata": {},
   "outputs": [
    {
     "data": {
      "text/plain": [
       "(190, array([[ 1.822   , 74.82825 ],\n",
       "        [ 3.869   , 70.81949 ],\n",
       "        [ 3.911   , 72.15066 ],\n",
       "        [ 5.578   , 61.999855],\n",
       "        [ 1.579   , 73.92766 ]], dtype=float32))"
      ]
     },
     "execution_count": 3,
     "metadata": {},
     "output_type": "execute_result"
    }
   ],
   "source": [
    "DATA_FILE = 'data/birth_life_2010.txt'\n",
    "data, n_samples = read_birth_life_data(DATA_FILE)\n",
    "n_samples, data[:5]"
   ]
  },
  {
   "cell_type": "code",
   "execution_count": 4,
   "metadata": {},
   "outputs": [],
   "source": [
    "x = tf.placeholder(tf.float32, shape=None, name=\"x\")\n",
    "y = tf.placeholder(tf.float32, shape=None, name=\"y\")\n",
    "w = tf.get_variable(name=\"w\", initializer=1.)\n",
    "b = tf.get_variable(name=\"b\",initializer=1.)\n",
    "y_pred = w * x + b"
   ]
  },
  {
   "cell_type": "markdown",
   "metadata": {},
   "source": [
    "## MSE loss"
   ]
  },
  {
   "cell_type": "code",
   "execution_count": 5,
   "metadata": {},
   "outputs": [],
   "source": [
    "loss = tf.square(y - y_pred, name=\"loss\")\n",
    "opt = tf.train.GradientDescentOptimizer(learning_rate=0.001)\n",
    "optimizer = opt.minimize(loss)"
   ]
  },
  {
   "cell_type": "code",
   "execution_count": 6,
   "metadata": {
    "scrolled": true
   },
   "outputs": [
    {
     "name": "stdout",
     "output_type": "stream",
     "text": [
      "Epoch 0: 1568.9692803520122\n",
      "Epoch 1: 942.3385196983814\n",
      "Epoch 2: 832.811796224431\n",
      "Epoch 3: 740.2402580444553\n",
      "Epoch 4: 658.3754464801989\n",
      "Epoch 5: 585.9248550408765\n",
      "Epoch 6: 521.8070225622995\n",
      "Epoch 7: 465.0646173995576\n",
      "Epoch 8: 414.8506003169637\n",
      "Epoch 9: 370.4145057224325\n",
      "Epoch 10: 331.0936166469253\n",
      "Epoch 11: 296.2993743072485\n",
      "Epoch 12: 265.5116946970434\n",
      "Epoch 13: 238.2702335912146\n",
      "Epoch 14: 214.16700077005908\n",
      "Epoch 15: 192.84110705986845\n",
      "Epoch 16: 173.97367574083648\n",
      "Epoch 17: 157.2819040422769\n",
      "Epoch 18: 142.5156432926851\n",
      "Epoch 19: 129.45341144360995\n",
      "Epoch 20: 117.8989040715914\n",
      "Epoch 21: 107.67870211957243\n",
      "Epoch 22: 98.63963077073231\n",
      "Epoch 23: 90.64455458763007\n",
      "Epoch 24: 83.57465429066337\n",
      "Epoch 25: 77.32281445565413\n",
      "Epoch 26: 71.79440666188142\n",
      "Epoch 27: 66.90659510796694\n",
      "Epoch 28: 62.58535183131523\n",
      "Epoch 29: 58.76519675430303\n",
      "Epoch 30: 55.38838906633349\n",
      "Epoch 31: 52.404082686117675\n",
      "Epoch 32: 49.766598797239375\n",
      "Epoch 33: 47.4358592791299\n",
      "Epoch 34: 45.37666187658416\n",
      "Epoch 35: 43.557437158687236\n",
      "Epoch 36: 41.95038984585676\n",
      "Epoch 37: 40.53125834643847\n",
      "Epoch 38: 39.27797714881109\n",
      "Epoch 39: 38.17149333346598\n",
      "Epoch 40: 37.19497829124111\n",
      "Epoch 41: 36.332852153187176\n",
      "Epoch 42: 35.57230594666111\n",
      "Epoch 43: 34.90115375333269\n",
      "Epoch 44: 34.30934173605944\n",
      "Epoch 45: 33.78740785329903\n",
      "Epoch 46: 33.32745785564828\n",
      "Epoch 47: 32.92212039721934\n",
      "Epoch 48: 32.56501901437969\n",
      "Epoch 49: 32.25057682988577\n",
      "Epoch 50: 31.973537302843148\n",
      "Epoch 51: 31.729951298124107\n",
      "Epoch 52: 31.51557882078372\n",
      "Epoch 53: 31.32700990199381\n",
      "Epoch 54: 31.161372710030072\n",
      "Epoch 55: 31.015817416722253\n",
      "Epoch 56: 30.88807478183582\n",
      "Epoch 57: 30.77592929064941\n",
      "Epoch 58: 30.677605982736903\n",
      "Epoch 59: 30.591506138712315\n",
      "Epoch 60: 30.516055095944505\n",
      "Epoch 61: 30.450083007859558\n",
      "Epoch 62: 30.392445530078533\n",
      "Epoch 63: 30.342052236063356\n",
      "Epoch 64: 30.298148885234504\n",
      "Epoch 65: 30.259887603979166\n",
      "Epoch 66: 30.226613323155203\n",
      "Epoch 67: 30.197652555967828\n",
      "Epoch 68: 30.172621414673785\n",
      "Epoch 69: 30.15087924415129\n",
      "Epoch 70: 30.132062388179627\n",
      "Epoch 71: 30.11589817906252\n",
      "Epoch 72: 30.10193463819083\n",
      "Epoch 73: 30.089989761135687\n",
      "Epoch 74: 30.079780542242684\n",
      "Epoch 75: 30.07109381189864\n",
      "Epoch 76: 30.063714757714862\n",
      "Epoch 77: 30.057438822976607\n",
      "Epoch 78: 30.052203892302504\n",
      "Epoch 79: 30.04784354972898\n",
      "Epoch 80: 30.044172558777866\n",
      "Epoch 81: 30.04117437237261\n",
      "Epoch 82: 30.038763631132163\n",
      "Epoch 83: 30.03683012674967\n",
      "Epoch 84: 30.035337081006546\n",
      "Epoch 85: 30.034168877071274\n",
      "Epoch 86: 30.033299266101523\n",
      "Epoch 87: 30.032737745550588\n",
      "Epoch 88: 30.032322423828926\n",
      "Epoch 89: 30.03216046346298\n",
      "Epoch 90: 30.03210514838697\n",
      "Epoch 91: 30.03220280095457\n",
      "Epoch 92: 30.03241093396454\n",
      "Epoch 93: 30.032697830809354\n",
      "Epoch 94: 30.03305548058308\n",
      "Epoch 95: 30.033505873051226\n",
      "Epoch 96: 30.033966193683323\n",
      "Epoch 97: 30.034495027143336\n",
      "Epoch 98: 30.03500556362499\n",
      "Epoch 99: 30.035584107562165\n",
      "Took: 15.762812 seconds\n"
     ]
    }
   ],
   "source": [
    "start = time.time()\n",
    "with tf.Session() as sess:\n",
    "    writer = tf.summary.FileWriter('./graphs/linear_reg', sess.graph)\n",
    "    sess.run(tf.global_variables_initializer())\n",
    "    for i in range(100):\n",
    "        total_loss = 0\n",
    "        for x_, y_ in data:\n",
    "            _, loss_ = sess.run([optimizer, loss], feed_dict = {x: x_, y: y_})\n",
    "            total_loss += loss_\n",
    "        print('Epoch {0}: {1}'.format(i, total_loss/n_samples))\n",
    "   \n",
    "    writer.close()\n",
    "    w_out, b_out = w.eval(), b.eval()\n",
    "\n",
    "print('Took: %f seconds' %(time.time() - start))"
   ]
  },
  {
   "cell_type": "code",
   "execution_count": 7,
   "metadata": {
    "scrolled": false
   },
   "outputs": [
    {
     "data": {
      "text/plain": [
       "(-6.0705147, 84.930885)"
      ]
     },
     "execution_count": 7,
     "metadata": {},
     "output_type": "execute_result"
    }
   ],
   "source": [
    "w_out, b_out"
   ]
  },
  {
   "cell_type": "code",
   "execution_count": 8,
   "metadata": {
    "scrolled": true
   },
   "outputs": [
    {
     "data": {
      "image/png": "[encoded data removed]",
      "text/plain": [
       "<matplotlib.figure.Figure at 0x7feeb004fef0>"
      ]
     },
     "metadata": {
      "needs_background": "light"
     },
     "output_type": "display_data"
    }
   ],
   "source": [
    "plt.plot(data[:,0], data[:,1], 'bo', label='Real data')\n",
    "plt.plot(data[:,0], data[:,0] * w_out + b_out, 'r', label='Predicted data')\n",
    "plt.legend()\n",
    "plt.show()"
   ]
  },
  {
   "cell_type": "markdown",
   "metadata": {},
   "source": [
    "## Huber loss"
   ]
  },
  {
   "cell_type": "code",
   "execution_count": 9,
   "metadata": {},
   "outputs": [],
   "source": [
    "def huber_loss(labels, predictions, delta=14.0):\n",
    "    residual = tf.abs(labels - predictions)\n",
    "    def f1(): return 0.5 *  tf.square(residual)\n",
    "    def f2(): return delta*residual - 0.5 * tf.square(delta)\n",
    "    return tf.cond(residual <= delta, f1, f2)"
   ]
  },
  {
   "cell_type": "code",
   "execution_count": 10,
   "metadata": {},
   "outputs": [],
   "source": [
    "loss = huber_loss(y, y_pred)\n",
    "opt = tf.train.GradientDescentOptimizer(learning_rate=0.001)\n",
    "optimizer = opt.minimize(loss)"
   ]
  },
  {
   "cell_type": "code",
   "execution_count": 11,
   "metadata": {
    "scrolled": true
   },
   "outputs": [
    {
     "name": "stdout",
     "output_type": "stream",
     "text": [
      "Epoch 0: 663.5629280226403\n",
      "Epoch 1: 460.13314198352595\n",
      "Epoch 2: 401.59421883727373\n",
      "Epoch 3: 374.5118350427402\n",
      "Epoch 4: 358.47175050193545\n",
      "Epoch 5: 347.0720009966841\n",
      "Epoch 6: 338.0364555793373\n",
      "Epoch 7: 330.4460736398597\n",
      "Epoch 8: 323.68525726238363\n",
      "Epoch 9: 317.4558528814269\n",
      "Epoch 10: 311.5799904632088\n",
      "Epoch 11: 305.92775425582533\n",
      "Epoch 12: 300.4191760576869\n",
      "Epoch 13: 295.0083209509128\n",
      "Epoch 14: 289.66949425527923\n",
      "Epoch 15: 284.37813601501676\n",
      "Epoch 16: 279.1247189197101\n",
      "Epoch 17: 273.9016147257074\n",
      "Epoch 18: 268.6990444098648\n",
      "Epoch 19: 263.50745266406847\n",
      "Epoch 20: 258.3268816049217\n",
      "Epoch 21: 253.16901084402036\n",
      "Epoch 22: 248.0284170604409\n",
      "Epoch 23: 242.90540681747524\n",
      "Epoch 24: 237.80317627002583\n",
      "Epoch 25: 232.7188149778099\n",
      "Epoch 26: 227.6568571979474\n",
      "Epoch 27: 222.61726119564906\n",
      "Epoch 28: 217.60076539379202\n",
      "Epoch 29: 212.60843134502832\n",
      "Epoch 30: 207.64982076600978\n",
      "Epoch 31: 202.707493878352\n",
      "Epoch 32: 197.78371433552942\n",
      "Epoch 33: 192.8736166213688\n",
      "Epoch 34: 187.98665032324038\n",
      "Epoch 35: 183.12832910575364\n",
      "Epoch 36: 178.3095746143868\n",
      "Epoch 37: 173.512724874051\n",
      "Epoch 38: 168.73275013769927\n",
      "Epoch 39: 163.98043307858077\n",
      "Epoch 40: 159.25732156540218\n",
      "Epoch 41: 154.56593073771188\n",
      "Epoch 42: 149.90076961827123\n",
      "Epoch 43: 145.27857369047246\n",
      "Epoch 44: 140.68465104691293\n",
      "Epoch 45: 136.15770469882378\n",
      "Epoch 46: 131.678430337302\n",
      "Epoch 47: 127.25805582021805\n",
      "Epoch 48: 122.88082311223506\n",
      "Epoch 49: 118.55805674958239\n",
      "Epoch 50: 114.28870143280609\n",
      "Epoch 51: 110.08765375677397\n",
      "Epoch 52: 105.96748303822977\n",
      "Epoch 53: 101.92537372670577\n",
      "Epoch 54: 97.9715972572994\n",
      "Epoch 55: 94.11912296047238\n",
      "Epoch 56: 90.3392442431497\n",
      "Epoch 57: 86.65903348929592\n",
      "Epoch 58: 83.08661586818727\n",
      "Epoch 59: 79.62490934921723\n",
      "Epoch 60: 76.25742563405319\n",
      "Epoch 61: 72.99362948416291\n",
      "Epoch 62: 69.83723079068096\n",
      "Epoch 63: 66.78853982157614\n",
      "Epoch 64: 63.858860618804925\n",
      "Epoch 65: 61.04558759588552\n",
      "Epoch 66: 58.3556306881438\n",
      "Epoch 67: 55.79184168208832\n",
      "Epoch 68: 53.33791054028981\n",
      "Epoch 69: 50.98847919909382\n",
      "Epoch 70: 48.74970883389408\n",
      "Epoch 71: 46.63952598973962\n",
      "Epoch 72: 44.62465774894226\n",
      "Epoch 73: 42.7107706577174\n",
      "Epoch 74: 40.91081559901665\n",
      "Epoch 75: 39.21055737448072\n",
      "Epoch 76: 37.627924030881964\n",
      "Epoch 77: 36.14744391334978\n",
      "Epoch 78: 34.75041269663672\n",
      "Epoch 79: 33.441507520521135\n",
      "Epoch 80: 32.21681055421267\n",
      "Epoch 81: 31.070893606232282\n",
      "Epoch 82: 29.996217321609546\n",
      "Epoch 83: 28.989153703610953\n",
      "Epoch 84: 28.04585679814244\n",
      "Epoch 85: 27.1621983639804\n",
      "Epoch 86: 26.334481725278064\n",
      "Epoch 87: 25.56189453191075\n",
      "Epoch 88: 24.846049155745852\n",
      "Epoch 89: 24.174113901346267\n",
      "Epoch 90: 23.553261992797303\n",
      "Epoch 91: 22.974489744483666\n",
      "Epoch 92: 22.43289874299984\n",
      "Epoch 93: 21.927009237231687\n",
      "Epoch 94: 21.454622394886897\n",
      "Epoch 95: 21.013426104528634\n",
      "Epoch 96: 20.601505161179873\n",
      "Epoch 97: 20.216826405625724\n",
      "Epoch 98: 19.858734803300006\n",
      "Epoch 99: 19.52445935322551\n",
      "Took: 17.174043 seconds\n"
     ]
    }
   ],
   "source": [
    "start = time.time()\n",
    "with tf.Session() as sess:\n",
    "    writer = tf.summary.FileWriter('./graphs/linear_reg', sess.graph)\n",
    "    sess.run(tf.global_variables_initializer())\n",
    "    for i in range(100):\n",
    "        total_loss = 0\n",
    "        for x_, y_ in data:\n",
    "            _, loss_ = sess.run([optimizer, loss], feed_dict = {x: x_, y: y_})\n",
    "            total_loss += loss_\n",
    "        print('Epoch {0}: {1}'.format(i, total_loss/n_samples))\n",
    "   \n",
    "    writer.close()\n",
    "    w_out, b_out = w.eval(), b.eval()\n",
    "\n",
    "print('Took: %f seconds' %(time.time() - start))"
   ]
  },
  {
   "cell_type": "code",
   "execution_count": 12,
   "metadata": {
    "scrolled": false
   },
   "outputs": [
    {
     "data": {
      "text/plain": [
       "(-4.2700043, 78.66997)"
      ]
     },
     "execution_count": 12,
     "metadata": {},
     "output_type": "execute_result"
    }
   ],
   "source": [
    "w_out, b_out"
   ]
  },
  {
   "cell_type": "code",
   "execution_count": 13,
   "metadata": {
    "scrolled": true
   },
   "outputs": [
    {
     "data": {
      "image/png": "[encoded data removed]",
      "text/plain": [
       "<matplotlib.figure.Figure at 0x7fee6582b4a8>"
      ]
     },
     "metadata": {
      "needs_background": "light"
     },
     "output_type": "display_data"
    }
   ],
   "source": [
    "plt.plot(data[:,0], data[:,1], 'bo', label='Real data')\n",
    "plt.plot(data[:,0], data[:,0] * w_out + b_out, 'r', label='Predicted data')\n",
    "plt.legend()\n",
    "plt.show()"
   ]
  },
  {
   "cell_type": "markdown",
   "metadata": {},
   "source": [
    "# tf.data"
   ]
  },
  {
   "cell_type": "code",
   "execution_count": 14,
   "metadata": {},
   "outputs": [
    {
     "name": "stdout",
     "output_type": "stream",
     "text": [
      "(tf.float32, tf.float32)\n",
      "(TensorShape([]), TensorShape([]))\n"
     ]
    }
   ],
   "source": [
    "dataset = tf.data.Dataset.from_tensor_slices((data[:,0], data[:,1]))\n",
    "print(dataset.output_types)\n",
    "print(dataset.output_shapes)"
   ]
  },
  {
   "cell_type": "code",
   "execution_count": 15,
   "metadata": {},
   "outputs": [],
   "source": [
    "# tf.data.TextLineDataset(filenames)\n",
    "# tf.data.FixedLengthRecordDataset(filenames)\n",
    "# tf.data.TFRecordDataset(filenames)"
   ]
  },
  {
   "cell_type": "code",
   "execution_count": 16,
   "metadata": {},
   "outputs": [],
   "source": [
    "# iterator = dataset.make_one_shot_iterator()\n",
    "# iterator = dataset.make_initializable_iterator()"
   ]
  },
  {
   "cell_type": "code",
   "execution_count": 17,
   "metadata": {},
   "outputs": [
    {
     "name": "stdout",
     "output_type": "stream",
     "text": [
      "[1.822, 74.82825]\n",
      "[3.869, 70.81949]\n",
      "[3.911, 72.15066]\n"
     ]
    }
   ],
   "source": [
    "iterator = dataset.make_one_shot_iterator()\n",
    "X, Y = iterator.get_next()  # X is the birth rate, Y is the life expectancy\n",
    "with tf.Session() as sess:\n",
    "    print(sess.run([X, Y])) # >> [1.822, 74.82825]\n",
    "    print(sess.run([X, Y])) # >> [3.869, 70.81949]\n",
    "    print(sess.run([X, Y])) # >> [3.911, 72.15066]\n"
   ]
  },
  {
   "cell_type": "code",
   "execution_count": 18,
   "metadata": {},
   "outputs": [],
   "source": [
    "tf.reset_default_graph()\n",
    "dataset = tf.data.Dataset.from_tensor_slices((data[:,0], data[:,1]))\n",
    "iterator = dataset.make_initializable_iterator()\n",
    "x, y = iterator.get_next()\n",
    "w = tf.get_variable(name=\"w\", initializer=1.)\n",
    "b = tf.get_variable(name=\"b\",initializer=1.)\n",
    "y_pred = w * x + b\n",
    "loss = tf.square(y - y_pred, name=\"loss\")\n",
    "opt = tf.train.GradientDescentOptimizer(learning_rate=0.001)\n",
    "optimizer = opt.minimize(loss)"
   ]
  },
  {
   "cell_type": "code",
   "execution_count": 19,
   "metadata": {},
   "outputs": [
    {
     "name": "stdout",
     "output_type": "stream",
     "text": [
      "Epoch 0: 1568.9692803520122\n",
      "Epoch 1: 942.3385196983814\n",
      "Epoch 2: 832.811796224431\n",
      "Epoch 3: 740.2402580444553\n",
      "Epoch 4: 658.3754464801989\n",
      "Epoch 5: 585.9248550408765\n",
      "Epoch 6: 521.8070225622995\n",
      "Epoch 7: 465.0646173995576\n",
      "Epoch 8: 414.8506003169637\n",
      "Epoch 9: 370.4145057224325\n",
      "Epoch 10: 331.0936166469253\n",
      "Epoch 11: 296.2993743072485\n",
      "Epoch 12: 265.5116946970434\n",
      "Epoch 13: 238.2702335912146\n",
      "Epoch 14: 214.16700077005908\n",
      "Epoch 15: 192.84110705986845\n",
      "Epoch 16: 173.97367574083648\n",
      "Epoch 17: 157.2819040422769\n",
      "Epoch 18: 142.5156432926851\n",
      "Epoch 19: 129.45341144360995\n",
      "Epoch 20: 117.8989040715914\n",
      "Epoch 21: 107.67870211957243\n",
      "Epoch 22: 98.63963077073231\n",
      "Epoch 23: 90.64455458763007\n",
      "Epoch 24: 83.57465429066337\n",
      "Epoch 25: 77.32281445565413\n",
      "Epoch 26: 71.79440666188142\n",
      "Epoch 27: 66.90659510796694\n",
      "Epoch 28: 62.58535183131523\n",
      "Epoch 29: 58.76519675430303\n",
      "Epoch 30: 55.38838906633349\n",
      "Epoch 31: 52.404082686117675\n",
      "Epoch 32: 49.766598797239375\n",
      "Epoch 33: 47.4358592791299\n",
      "Epoch 34: 45.37666187658416\n",
      "Epoch 35: 43.557437158687236\n",
      "Epoch 36: 41.95038984585676\n",
      "Epoch 37: 40.53125834643847\n",
      "Epoch 38: 39.27797714881109\n",
      "Epoch 39: 38.17149333346598\n",
      "Epoch 40: 37.19497829124111\n",
      "Epoch 41: 36.332852153187176\n",
      "Epoch 42: 35.57230594666111\n",
      "Epoch 43: 34.90115375333269\n",
      "Epoch 44: 34.30934173605944\n",
      "Epoch 45: 33.78740785329903\n",
      "Epoch 46: 33.32745785564828\n",
      "Epoch 47: 32.92212039721934\n",
      "Epoch 48: 32.56501901437969\n",
      "Epoch 49: 32.25057682988577\n",
      "Epoch 50: 31.973537302843148\n",
      "Epoch 51: 31.729951298124107\n",
      "Epoch 52: 31.51557882078372\n",
      "Epoch 53: 31.32700990199381\n",
      "Epoch 54: 31.161372710030072\n",
      "Epoch 55: 31.015817416722253\n",
      "Epoch 56: 30.88807478183582\n",
      "Epoch 57: 30.77592929064941\n",
      "Epoch 58: 30.677605982736903\n",
      "Epoch 59: 30.591506138712315\n",
      "Epoch 60: 30.516055095944505\n",
      "Epoch 61: 30.450083007859558\n",
      "Epoch 62: 30.392445530078533\n",
      "Epoch 63: 30.342052236063356\n",
      "Epoch 64: 30.298148885234504\n",
      "Epoch 65: 30.259887603979166\n",
      "Epoch 66: 30.226613323155203\n",
      "Epoch 67: 30.197652555967828\n",
      "Epoch 68: 30.172621414673785\n",
      "Epoch 69: 30.15087924415129\n",
      "Epoch 70: 30.132062388179627\n",
      "Epoch 71: 30.11589817906252\n",
      "Epoch 72: 30.10193463819083\n",
      "Epoch 73: 30.089989761135687\n",
      "Epoch 74: 30.079780542242684\n",
      "Epoch 75: 30.07109381189864\n",
      "Epoch 76: 30.063714757714862\n",
      "Epoch 77: 30.057438822976607\n",
      "Epoch 78: 30.052203892302504\n",
      "Epoch 79: 30.04784354972898\n",
      "Epoch 80: 30.044172558777866\n",
      "Epoch 81: 30.04117437237261\n",
      "Epoch 82: 30.038763631132163\n",
      "Epoch 83: 30.03683012674967\n",
      "Epoch 84: 30.035337081006546\n",
      "Epoch 85: 30.034168877071274\n",
      "Epoch 86: 30.033299266101523\n",
      "Epoch 87: 30.032737745550588\n",
      "Epoch 88: 30.032322423828926\n",
      "Epoch 89: 30.03216046346298\n",
      "Epoch 90: 30.03210514838697\n",
      "Epoch 91: 30.03220280095457\n",
      "Epoch 92: 30.03241093396454\n",
      "Epoch 93: 30.032697830809354\n",
      "Epoch 94: 30.03305548058308\n",
      "Epoch 95: 30.033505873051226\n",
      "Epoch 96: 30.033966193683323\n",
      "Epoch 97: 30.034495027143336\n",
      "Epoch 98: 30.03500556362499\n",
      "Epoch 99: 30.035584107562165\n",
      "Took: 11.386851 seconds\n"
     ]
    },
    {
     "data": {
      "text/plain": [
       "(-6.0705147, 84.930885)"
      ]
     },
     "execution_count": 19,
     "metadata": {},
     "output_type": "execute_result"
    }
   ],
   "source": [
    "start = time.time()\n",
    "with tf.Session() as sess:\n",
    "    sess.run(tf.global_variables_initializer())\n",
    "    for i in range(100): \n",
    "        sess.run(iterator.initializer) \n",
    "        total_loss = 0\n",
    "        try:\n",
    "            while True:\n",
    "                _, loss_ = sess.run([optimizer, loss])\n",
    "                total_loss += loss_\n",
    "        except tf.errors.OutOfRangeError:\n",
    "            pass\n",
    "        print('Epoch {0}: {1}'.format(i, total_loss/n_samples))\n",
    "    w_out, b_out = w.eval(), b.eval()\n",
    "print('Took: %f seconds' %(time.time() - start))\n",
    "w_out, b_out"
   ]
  },
  {
   "cell_type": "code",
   "execution_count": 20,
   "metadata": {},
   "outputs": [],
   "source": [
    "# dataset = dataset.shuffle(1000)\n",
    "# dataset = dataset.repeat(100)\n",
    "# dataset = dataset.batch(128)\n",
    "# dataset = dataset.map(lambda x: tf.one_hot(x, 10)) "
   ]
  },
  {
   "cell_type": "markdown",
   "metadata": {},
   "source": [
    "# Optimizer"
   ]
  },
  {
   "cell_type": "code",
   "execution_count": 21,
   "metadata": {},
   "outputs": [],
   "source": [
    "# tf.train.GradientDescentOptimizer\n",
    "# tf.train.AdagradOptimizer\n",
    "# tf.train.MomentumOptimizer\n",
    "# tf.train.AdamOptimizer\n",
    "# tf.train.FtrlOptimizer\n",
    "# tf.train.RMSPropOptimizer"
   ]
  },
  {
   "cell_type": "code",
   "execution_count": 22,
   "metadata": {},
   "outputs": [
    {
     "data": {
      "text/plain": [
       "<tf.Variable 'Variable:0' shape=() dtype=int32_ref>"
      ]
     },
     "execution_count": 22,
     "metadata": {},
     "output_type": "execute_result"
    }
   ],
   "source": [
    "tf.Variable(2, trainable=True)  #trainable variable"
   ]
  },
  {
   "cell_type": "markdown",
   "metadata": {},
   "source": [
    "# MNIST Logistic Regression"
   ]
  },
  {
   "cell_type": "code",
   "execution_count": 23,
   "metadata": {
    "scrolled": true
   },
   "outputs": [],
   "source": [
    "from tensorflow.examples.tutorials.mnist import input_data\n",
    "# MNIST = input_data.read_data_sets('data/mnist', one_hot=True)\n",
    "mnist = tf.keras.datasets.mnist\n",
    "(train_img, train_label), (test_img, test_label) = mnist.load_data()"
   ]
  },
  {
   "cell_type": "code",
   "execution_count": 24,
   "metadata": {
    "scrolled": true
   },
   "outputs": [
    {
     "name": "stdout",
     "output_type": "stream",
     "text": [
      "(28, 28) uint8\n",
      "5\n"
     ]
    }
   ],
   "source": [
    "print(train_img[0].shape, train_img[0].dtype)\n",
    "print(train_label[0])"
   ]
  },
  {
   "cell_type": "code",
   "execution_count": 25,
   "metadata": {},
   "outputs": [],
   "source": [
    "train = train_img.astype(\"float32\").reshape(-1, 28*28)/255.0, np.eye(10, dtype=\"float32\")[train_label]\n",
    "test = test_img.astype(\"float32\").reshape(-1, 28*28)/255.0, np.eye(10, dtype=\"float32\")[test_label]"
   ]
  },
  {
   "cell_type": "code",
   "execution_count": 26,
   "metadata": {},
   "outputs": [],
   "source": [
    "learning_rate = 0.01\n",
    "batch_size = 128\n",
    "n_epochs = 30\n",
    "n_train = 60000\n",
    "n_test = 10000\n",
    "\n",
    "train_data = tf.data.Dataset.from_tensor_slices(train)\n",
    "train_data = train_data.shuffle(10000) # optional\n",
    "train_data = train_data.batch(batch_size)\n",
    "test_data = tf.data.Dataset.from_tensor_slices(test)\n",
    "test_data = test_data.batch(batch_size)"
   ]
  },
  {
   "cell_type": "code",
   "execution_count": 27,
   "metadata": {},
   "outputs": [],
   "source": [
    "iterator = tf.data.Iterator.from_structure(train_data.output_types, train_data.output_shapes)\n",
    "train_init = iterator.make_initializer(train_data)\n",
    "test_init = iterator.make_initializer(test_data)"
   ]
  },
  {
   "cell_type": "code",
   "execution_count": 28,
   "metadata": {},
   "outputs": [],
   "source": [
    "w = tf.get_variable(name='weights', shape=(784, 10), initializer=tf.random_normal_initializer(0, 0.01))\n",
    "b = tf.get_variable(name='bias', shape=(1, 10), initializer=tf.zeros_initializer())"
   ]
  },
  {
   "cell_type": "code",
   "execution_count": 29,
   "metadata": {},
   "outputs": [
    {
     "name": "stdout",
     "output_type": "stream",
     "text": [
      "WARNING:tensorflow:From <ipython-input-29-566f403b79c6>:3: softmax_cross_entropy_with_logits (from tensorflow.python.ops.nn_ops) is deprecated and will be removed in a future version.\n",
      "Instructions for updating:\n",
      "\n",
      "Future major versions of TensorFlow will allow gradients to flow\n",
      "into the labels input on backprop by default.\n",
      "\n",
      "See `tf.nn.softmax_cross_entropy_with_logits_v2`.\n",
      "\n"
     ]
    }
   ],
   "source": [
    "img, label = iterator.get_next()\n",
    "logits = tf.matmul(img, w) + b\n",
    "entropy = tf.nn.softmax_cross_entropy_with_logits(labels=label, logits=logits)\n",
    "loss = tf.reduce_mean(entropy)\n",
    "optimizer = tf.train.AdamOptimizer(learning_rate=learning_rate).minimize(loss)\n",
    "preds = tf.nn.softmax(logits)\n",
    "correct_preds = tf.equal(tf.argmax(preds, 1), tf.argmax(label, 1))\n",
    "accuracy = tf.reduce_sum(tf.cast(correct_preds, tf.float32))"
   ]
  },
  {
   "cell_type": "code",
   "execution_count": 30,
   "metadata": {},
   "outputs": [
    {
     "name": "stdout",
     "output_type": "stream",
     "text": [
      "Average loss epoch 0: 0.3602680185996393\n",
      "Average loss epoch 1: 0.2920875932965706\n",
      "Average loss epoch 2: 0.28521599371168915\n",
      "Average loss epoch 3: 0.2789781075487259\n",
      "Average loss epoch 4: 0.2752075472366073\n",
      "Average loss epoch 5: 0.26938274621899955\n",
      "Average loss epoch 6: 0.2721331209452676\n",
      "Average loss epoch 7: 0.2688870493378212\n",
      "Average loss epoch 8: 0.26574084926833474\n",
      "Average loss epoch 9: 0.2637041519795145\n",
      "Average loss epoch 10: 0.26685880272309664\n",
      "Average loss epoch 11: 0.2646207956394661\n",
      "Average loss epoch 12: 0.26497786314184985\n",
      "Average loss epoch 13: 0.26202457148764435\n",
      "Average loss epoch 14: 0.2603920380285045\n",
      "Average loss epoch 15: 0.2581453602165302\n",
      "Average loss epoch 16: 0.2580228013588167\n",
      "Average loss epoch 17: 0.25812692273018967\n",
      "Average loss epoch 18: 0.25877394023607536\n",
      "Average loss epoch 19: 0.2577990868103021\n",
      "Average loss epoch 20: 0.25834459579512\n",
      "Average loss epoch 21: 0.2566296682873769\n",
      "Average loss epoch 22: 0.2574690435169094\n",
      "Average loss epoch 23: 0.25839872952145554\n",
      "Average loss epoch 24: 0.2573444333666169\n",
      "Average loss epoch 25: 0.2555817124495374\n",
      "Average loss epoch 26: 0.2554273815202052\n",
      "Average loss epoch 27: 0.25920087207100795\n",
      "Average loss epoch 28: 0.254399078804801\n",
      "Average loss epoch 29: 0.2529887309047713\n",
      "Total time: 40.969693183898926 seconds\n",
      "Accuracy 0.9199\n"
     ]
    }
   ],
   "source": [
    "writer = tf.summary.FileWriter('./graphs/logreg', tf.get_default_graph())\n",
    "with tf.Session() as sess:\n",
    "   \n",
    "    start_time = time.time()\n",
    "    sess.run(tf.global_variables_initializer())\n",
    "\n",
    "    # train the model n_epochs times\n",
    "    for i in range(n_epochs):\n",
    "        sess.run(train_init) # drawing samples from train_data\n",
    "        total_loss = 0\n",
    "        n_batches = 0\n",
    "        try:\n",
    "            while True:\n",
    "                _, l = sess.run([optimizer, loss])\n",
    "                total_loss += l\n",
    "                n_batches += 1\n",
    "        except tf.errors.OutOfRangeError:\n",
    "            pass\n",
    "        print('Average loss epoch {0}: {1}'.format(i, total_loss/n_batches))\n",
    "    print('Total time: {0} seconds'.format(time.time() - start_time))\n",
    "\n",
    "    # test the model\n",
    "    sess.run(test_init)  # drawing samples from test_data\n",
    "    total_correct_preds = 0\n",
    "    try:\n",
    "        while True:\n",
    "            accuracy_batch = sess.run(accuracy)\n",
    "            total_correct_preds += accuracy_batch\n",
    "    except tf.errors.OutOfRangeError:\n",
    "        pass\n",
    "\n",
    "    print('Accuracy {0}'.format(total_correct_preds/n_test))\n",
    "writer.close()"
   ]
  },
  {
   "cell_type": "code",
   "execution_count": null,
   "metadata": {},
   "outputs": [],
   "source": []
  }
 ],
 "metadata": {
  "kernelspec": {
   "display_name": "Python 3",
   "language": "python",
   "name": "python3"
  },
  "language_info": {
   "codemirror_mode": {
    "name": "ipython",
    "version": 3
   },
   "file_extension": ".py",
   "mimetype": "text/x-python",
   "name": "python",
   "nbconvert_exporter": "python",
   "pygments_lexer": "ipython3",
   "version": "3.6.6"
  }
 },
 "nbformat": 4,
 "nbformat_minor": 2
}
