{
 "cells": [
  {
   "cell_type": "markdown",
   "metadata": {},
   "source": [
    "# Eager execution"
   ]
  },
  {
   "cell_type": "code",
   "execution_count": 64,
   "metadata": {},
   "outputs": [],
   "source": [
    "import time\n",
    "import os\n",
    "os.environ['TF_CPP_MIN_LOG_LEVEL']='2'\n",
    "import numpy as np\n",
    "import matplotlib.pyplot as plt\n",
    "import tensorflow as tf\n",
    "import tensorflow.contrib.eager as tfe\n",
    "tfe.enable_eager_execution()"
   ]
  },
  {
   "cell_type": "code",
   "execution_count": 3,
   "metadata": {},
   "outputs": [
    {
     "name": "stdout",
     "output_type": "stream",
     "text": [
      "tf.Tensor(1000, shape=(), dtype=int32)\n"
     ]
    }
   ],
   "source": [
    "i = tf.constant(0)\n",
    "while i < 1000:\n",
    "    i = tf.add(i, 1)\n",
    "    \n",
    "print(i)"
   ]
  },
  {
   "cell_type": "code",
   "execution_count": 9,
   "metadata": {},
   "outputs": [
    {
     "name": "stdout",
     "output_type": "stream",
     "text": [
      "tf.Tensor([[4.]], shape=(1, 1), dtype=float32)\n"
     ]
    }
   ],
   "source": [
    "# Boilerplate\n",
    "# x = tf.placeholder(tf.float32, shape=[1, 1])\n",
    "# m = tf.matmul(x, x)\n",
    "# print(m)\n",
    "\n",
    "# with tf.Session() as sess:\n",
    "#     m_out = sess.run(m, feed_dict={x: [[2.]]})\n",
    "# print(m_out)\n",
    "\n",
    "x = [[2.]]\n",
    "m = tf.matmul(x, x)\n",
    "print(m)"
   ]
  },
  {
   "cell_type": "code",
   "execution_count": 12,
   "metadata": {},
   "outputs": [
    {
     "name": "stdout",
     "output_type": "stream",
     "text": [
      "tf.Tensor(0.85267067, shape=(), dtype=float32)\n",
      "tf.Tensor(0.17922592, shape=(), dtype=float32)\n",
      "tf.Tensor(0.4420761, shape=(), dtype=float32)\n",
      "tf.Tensor(0.60822797, shape=(), dtype=float32)\n"
     ]
    }
   ],
   "source": [
    "# Lazy loading\n",
    "# x = tf.random_uniform([2, 2])\n",
    "# with tf.Session() as sess:\n",
    "#     for i in range(x.shape[0]):\n",
    "#         for j in range(x.shape[1]):\n",
    "#             print(sess.run(x[i,j]))\n",
    "\n",
    "x = tf.random_uniform([2, 2])\n",
    "for i in range(x.shape[0]):\n",
    "    for j in range(x.shape[1]):\n",
    "        print(x[i,j])"
   ]
  },
  {
   "cell_type": "code",
   "execution_count": 17,
   "metadata": {},
   "outputs": [
    {
     "name": "stdout",
     "output_type": "stream",
     "text": [
      "[1. 2. 3.]\n",
      "tf.Tensor(1.0, shape=(), dtype=float32)\n",
      "tf.Tensor(2.0, shape=(), dtype=float32)\n",
      "tf.Tensor(3.0, shape=(), dtype=float32)\n"
     ]
    }
   ],
   "source": [
    "# Tensors Act Like NumPy Arrays\n",
    "\n",
    "x = tf.constant([1.0, 2.0, 3.0])\n",
    "print(x.numpy())\n",
    "assert type(x.numpy()) == np.ndarray\n",
    "squared = np.square(x)\n",
    "for i in x:\n",
    "    print(i)"
   ]
  },
  {
   "cell_type": "markdown",
   "metadata": {},
   "source": [
    "# Gradient"
   ]
  },
  {
   "cell_type": "code",
   "execution_count": 21,
   "metadata": {},
   "outputs": [
    {
     "name": "stdout",
     "output_type": "stream",
     "text": [
      "9.0\n",
      "[<tf.Tensor: id=5158, shape=(), dtype=float32, numpy=6.0>]\n"
     ]
    }
   ],
   "source": [
    "def square(x):\n",
    "    return x ** 2\n",
    "grad = tfe.gradients_function(square)\n",
    "print(square(3.))\n",
    "print(grad(3.))"
   ]
  },
  {
   "cell_type": "code",
   "execution_count": 27,
   "metadata": {},
   "outputs": [
    {
     "name": "stdout",
     "output_type": "stream",
     "text": [
      "tf.Tensor(9.0, shape=(), dtype=float32)\n",
      "[(<tf.Tensor: id=5381, shape=(), dtype=float32, numpy=-24.0>, <tf.Variable 'Variable:0' shape=() dtype=float32, numpy=2.0>)]\n",
      "[<tf.Tensor: id=5417, shape=(), dtype=float32, numpy=6.0>]\n"
     ]
    }
   ],
   "source": [
    "x = tfe.Variable(2.0)\n",
    "def loss(y):\n",
    "    return (y - x ** 2) ** 2\n",
    "grad_x = tfe.implicit_gradients(loss)\n",
    "print(loss(7.0))\n",
    "print(grad_x(7.0))\n",
    "grad_y = tfe.gradients_function(loss)\n",
    "print(grad_y(7.0))"
   ]
  },
  {
   "cell_type": "code",
   "execution_count": 29,
   "metadata": {},
   "outputs": [
    {
     "name": "stdout",
     "output_type": "stream",
     "text": [
      "(<tf.Tensor: id=5524, shape=(), dtype=float32, numpy=9.0>, [<tf.Tensor: id=5536, shape=(), dtype=float32, numpy=6.0>])\n",
      "(<tf.Tensor: id=5583, shape=(), dtype=float32, numpy=9.0>, [(<tf.Tensor: id=5620, shape=(), dtype=float32, numpy=-24.0>, <tf.Variable 'Variable:0' shape=() dtype=float32, numpy=2.0>)])\n"
     ]
    }
   ],
   "source": [
    "print(tfe.value_and_gradients_function(loss)(7.0))\n",
    "print(tfe.implicit_value_and_gradients(loss)(7.0))"
   ]
  },
  {
   "cell_type": "code",
   "execution_count": 32,
   "metadata": {},
   "outputs": [
    {
     "name": "stdout",
     "output_type": "stream",
     "text": [
      "tf.Tensor(-24.0, shape=(), dtype=float32)\n"
     ]
    }
   ],
   "source": [
    "with tf.GradientTape() as tape:\n",
    "    s = loss(7.0)\n",
    "[grad_x] = tape.gradient(s, [x])\n",
    "print(grad_x)"
   ]
  },
  {
   "cell_type": "code",
   "execution_count": 33,
   "metadata": {},
   "outputs": [
    {
     "name": "stdout",
     "output_type": "stream",
     "text": [
      "31.0\n"
     ]
    }
   ],
   "source": [
    "w1 = tfe.Variable(2.0)\n",
    "w2 = tfe.Variable(3.0)\n",
    "def weighted_sum(x1, x2):\n",
    "    return w1 * x1 + w2 * x2\n",
    "\n",
    "s = weighted_sum(5., 7.)\n",
    "print(s.numpy()) # 31"
   ]
  },
  {
   "cell_type": "code",
   "execution_count": 36,
   "metadata": {},
   "outputs": [
    {
     "name": "stdout",
     "output_type": "stream",
     "text": [
      "5.0 7.0\n"
     ]
    }
   ],
   "source": [
    "with tf.GradientTape() as tape:\n",
    "    s = weighted_sum(5., 7.)\n",
    "    \n",
    "[w1_grad, w2_grad] = tape.gradient(s, [w1, w2])\n",
    "print(w1_grad.numpy(), w2_grad.numpy()) # 5.0 = gradient of s with regards to w1 = x1"
   ]
  },
  {
   "cell_type": "code",
   "execution_count": 39,
   "metadata": {},
   "outputs": [
    {
     "name": "stdout",
     "output_type": "stream",
     "text": [
      "2.0 3.0\n"
     ]
    }
   ],
   "source": [
    "grad_fn = tfe.gradients_function(weighted_sum)\n",
    "x1_grad, x2_grad = grad_fn(5., 7.)\n",
    "print(x1_grad.numpy(), x2_grad.numpy()) # 2.0 = gradient of s with regards to x1 = w1"
   ]
  },
  {
   "cell_type": "code",
   "execution_count": 41,
   "metadata": {},
   "outputs": [
    {
     "name": "stdout",
     "output_type": "stream",
     "text": [
      "5.0 7.0\n"
     ]
    }
   ],
   "source": [
    "def weighted_sum_with_weights(w1, x1, w2, x2):\n",
    "    return w1 * x1 + w2 * x2\n",
    "\n",
    "grad_fn = tfe.gradients_function(weighted_sum_with_weights, params=[\"w1\", \"w2\"])\n",
    "[w1_grad, w2_grad] = grad_fn(w1, 5., w2, 7.)\n",
    "print(w1_grad.numpy(), w2_grad.numpy()) # 7.0 = gradient of s with regards to w2 = x2"
   ]
  },
  {
   "cell_type": "code",
   "execution_count": 43,
   "metadata": {},
   "outputs": [
    {
     "name": "stdout",
     "output_type": "stream",
     "text": [
      "5.0 7.0\n"
     ]
    }
   ],
   "source": [
    "grad_fn = tfe.implicit_gradients(weighted_sum)\n",
    "[(w1_grad, w1_var), (w2_grad, w2_var)] = grad_fn(5., 7.)\n",
    "print(w1_grad.numpy(), w2_grad.numpy()) # 5.0 = gradient of s with regards to w1 = x1\n",
    "\n",
    "assert w1_var is w1\n",
    "assert w2_var is w2"
   ]
  },
  {
   "cell_type": "code",
   "execution_count": 44,
   "metadata": {},
   "outputs": [
    {
     "name": "stdout",
     "output_type": "stream",
     "text": [
      "31.0\n"
     ]
    }
   ],
   "source": [
    "grad_fn = tfe.implicit_value_and_gradients(weighted_sum)\n",
    "s, [(w1_grad, w1_var), (w2_grad, w2_var)] = grad_fn(5., 7.)\n",
    "print(s.numpy()) # 31.0 = s = w1 * x1 + w2 * x2"
   ]
  },
  {
   "cell_type": "markdown",
   "metadata": {},
   "source": [
    "# Huber Regression with Eager Execution"
   ]
  },
  {
   "cell_type": "code",
   "execution_count": 52,
   "metadata": {},
   "outputs": [],
   "source": [
    "def read_birth_life_data(filename):\n",
    "    \"\"\"\n",
    "    Read in birth_life_2010.txt and return:\n",
    "    data in the form of NumPy array\n",
    "    n_samples: number of samples\n",
    "    \"\"\"\n",
    "    text = open(filename, 'r').readlines()[1:]\n",
    "    data = [line[:-1].split('\\t') for line in text]\n",
    "    births = [float(line[1]) for line in data]\n",
    "    lifes = [float(line[2]) for line in data]\n",
    "    data = list(zip(births, lifes))\n",
    "    n_samples = len(data)\n",
    "    data = np.asarray(data, dtype=np.float32)\n",
    "    return data, n_samples"
   ]
  },
  {
   "cell_type": "code",
   "execution_count": 47,
   "metadata": {},
   "outputs": [],
   "source": [
    "DATA_FILE = 'data/birth_life_2010.txt'\n",
    "data, n_samples = read_birth_life_data(DATA_FILE)\n",
    "dataset = tf.data.Dataset.from_tensor_slices((data[:,0], data[:,1]))"
   ]
  },
  {
   "cell_type": "code",
   "execution_count": 76,
   "metadata": {},
   "outputs": [],
   "source": [
    "w = tfe.Variable(0.0)\n",
    "b = tfe.Variable(0.0)\n",
    "\n",
    "def predict(x):\n",
    "    return w * x + b\n",
    "\n",
    "def square_loss(y, y_pred):\n",
    "    return (y - y_pred) ** 2\n",
    "\n",
    "def huber_loss(y, y_pred, m=1.0):\n",
    "    t = tf.abs(y - y_pred)\n",
    "    return t ** 2 if t <= m else m * (2 * t - m)\n",
    "\n",
    "def train(loss_fn):\n",
    "    print(\"Trainning, loss function: \" + loss_fn.__name__)\n",
    "    optimizer = tf.train.GradientDescentOptimizer(learning_rate=0.01)\n",
    "    \n",
    "    \n",
    "    def loss_for_example(x, y):\n",
    "        return loss_fn(y, predict(x))\n",
    "    \n",
    "    grad_fn = tfe.implicit_value_and_gradients(loss_for_example)\n",
    "    \n",
    "    start = time.time()\n",
    "    for epoch in range(100):\n",
    "        total_loss = 0.0\n",
    "        for x_i, y_i in tfe.Iterator(dataset):\n",
    "            loss_, gradients = grad_fn(x_i, y_i)\n",
    "            optimizer.apply_gradients(gradients)\n",
    "            total_loss += loss_\n",
    "            \n",
    "        if epoch % 10 == 0:\n",
    "            print(\"Epoch {0}: {1}\".format(epoch, total_loss / n_samples))\n",
    "    print(\"Took: %f seconds\" % (time.time() - start))"
   ]
  },
  {
   "cell_type": "code",
   "execution_count": 77,
   "metadata": {
    "scrolled": true
   },
   "outputs": [
    {
     "name": "stdout",
     "output_type": "stream",
     "text": [
      "Trainning, loss function: huber_loss\n",
      "Epoch 0: 106.16918182373047\n",
      "Epoch 10: 53.64773178100586\n",
      "Epoch 20: 42.586669921875\n",
      "Epoch 30: 31.845298767089844\n",
      "Epoch 40: 21.576385498046875\n",
      "Epoch 50: 12.379732131958008\n",
      "Epoch 60: 8.386137962341309\n",
      "Epoch 70: 7.563107013702393\n",
      "Epoch 80: 7.398852348327637\n",
      "Epoch 90: 7.382768630981445\n",
      "Took: 14.874278 seconds\n"
     ]
    }
   ],
   "source": [
    "train(huber_loss)"
   ]
  },
  {
   "cell_type": "code",
   "execution_count": 78,
   "metadata": {},
   "outputs": [
    {
     "data": {
      "text/plain": [
       "(-6.270736, 85.626625)"
      ]
     },
     "execution_count": 78,
     "metadata": {},
     "output_type": "execute_result"
    }
   ],
   "source": [
    "w.numpy(), b.numpy()"
   ]
  },
  {
   "cell_type": "code",
   "execution_count": 79,
   "metadata": {},
   "outputs": [
    {
     "data": {
      "image/png": "[encoded data removed]",
      "text/plain": [
       "<Figure size 432x288 with 1 Axes>"
      ]
     },
     "metadata": {
      "needs_background": "light"
     },
     "output_type": "display_data"
    }
   ],
   "source": [
    "plt.plot(data[:,0], data[:,1], \"go\")\n",
    "plt.plot(data[:,0], data[:,0] * w.numpy() + b.numpy(), \"r\",\n",
    "         label=\"huber regresstion\")\n",
    "plt.legend()\n",
    "plt.show()"
   ]
  }
 ],
 "metadata": {
  "kernelspec": {
   "display_name": "Python 3",
   "language": "python",
   "name": "python3"
  },
  "language_info": {
   "codemirror_mode": {
    "name": "ipython",
    "version": 3
   },
   "file_extension": ".py",
   "mimetype": "text/x-python",
   "name": "python",
   "nbconvert_exporter": "python",
   "pygments_lexer": "ipython3",
   "version": "3.5.2"
  }
 },
 "nbformat": 4,
 "nbformat_minor": 2
}
