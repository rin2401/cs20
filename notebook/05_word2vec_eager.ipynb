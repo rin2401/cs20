{
 "cells": [
  {
   "cell_type": "code",
   "execution_count": 10,
   "metadata": {},
   "outputs": [],
   "source": [
    "import os\n",
    "os.environ[\"TF_CPP_MIN_LOG_LEVEL\"]=\"2\"\n",
    "import tensorflow as tf\n",
    "import numpy as np\n",
    "import tensorflow.contrib.eager as tfe\n",
    "import utils\n",
    "import word2vec_utils\n",
    "tfe.enable_eager_execution()"
   ]
  },
  {
   "cell_type": "code",
   "execution_count": 22,
   "metadata": {},
   "outputs": [],
   "source": [
    "# Model hyperparameters\n",
    "VOCAB_SIZE = 50000\n",
    "BATCH_SIZE = 128\n",
    "EMBED_SIZE = 128            # dimension of the word embedding vectors\n",
    "SKIP_WINDOW = 1             # the context window\n",
    "NUM_SAMPLED = 64            # number of negative examples to sample\n",
    "LEARNING_RATE = 1.0\n",
    "NUM_TRAIN_STEPS = 100000\n",
    "VISUAL_FLD = 'visualization'\n",
    "SKIP_STEP = 5000\n",
    "\n",
    "# Parameters for downloading data\n",
    "DOWNLOAD_URL = 'http://mattmahoney.net/dc/text8.zip'\n",
    "EXPECTED_BYTES = 31344016\n",
    "NUM_VISUALIZE = 3000"
   ]
  },
  {
   "cell_type": "code",
   "execution_count": 15,
   "metadata": {},
   "outputs": [],
   "source": [
    "class Word2Vec(object):\n",
    "    def __init__(self, vocab_size, embed_size, num_sampled=NUM_SAMPLED):\n",
    "        self.vocab_size = vocab_size\n",
    "        self.num_sampled = num_sampled\n",
    "        # Create the variables: an embedding matrix, nce_weight, and nce_bias\n",
    "        self.embed_matrix = tfe.Variable(tf.random_uniform([vocab_size, embed_size]))\n",
    "        self.nce_weight = tfe.Variable(tf.truncated_normal(\n",
    "                                        [vocab_size, embed_size],\n",
    "                                        stddev=1.0 / (embed_size ** 0.5)))\n",
    "        self.nce_bias = tfe.Variable(tf.zeros([vocab_size]))\n",
    "\n",
    "    def compute_loss(self, center_words, target_words):\n",
    "        \"\"\"Computes the forward pass of word2vec with the NCE loss.\"\"\" \n",
    "        # Look up the embeddings for the center words\n",
    "        embed = tf.nn.embedding_lookup(self.embed_matrix, center_words)\n",
    "\n",
    "        # Compute the loss, using tf.reduce_mean and tf.nn.nce_loss\n",
    "        loss = tf.reduce_mean(tf.nn.nce_loss(weights=self.nce_weight,\n",
    "                              biases=self.nce_bias,\n",
    "                              labels=target_words,\n",
    "                              inputs=embed,\n",
    "                              num_sampled=self.num_sampled,\n",
    "                              num_classes=self.vocab_size))\n",
    "        return loss\n",
    "def gen():\n",
    "    yield from word2vec_utils.batch_gen(DOWNLOAD_URL, EXPECTED_BYTES,\n",
    "                                      VOCAB_SIZE, BATCH_SIZE, SKIP_WINDOW,\n",
    "                                      VISUAL_FLD)"
   ]
  },
  {
   "cell_type": "code",
   "execution_count": 16,
   "metadata": {},
   "outputs": [
    {
     "name": "stdout",
     "output_type": "stream",
     "text": [
      "data/text8.zip already exists\n",
      "Average loss at step 4999:  65.6\n",
      "Average loss at step 9999:  18.3\n",
      "Average loss at step 14999:   9.5\n",
      "Average loss at step 19999:   6.7\n",
      "Average loss at step 24999:   5.7\n",
      "Average loss at step 29999:   5.2\n",
      "Average loss at step 34999:   5.0\n",
      "Average loss at step 39999:   4.8\n",
      "Average loss at step 44999:   4.8\n",
      "Average loss at step 49999:   4.8\n",
      "Average loss at step 54999:   4.8\n",
      "Average loss at step 59999:   4.7\n",
      "Average loss at step 64999:   4.6\n",
      "Average loss at step 69999:   4.7\n",
      "Average loss at step 74999:   4.6\n",
      "Average loss at step 79999:   4.7\n",
      "Average loss at step 84999:   4.7\n",
      "Average loss at step 89999:   4.7\n",
      "Average loss at step 94999:   4.6\n",
      "Average loss at step 99999:   4.6\n"
     ]
    }
   ],
   "source": [
    "dataset = tf.data.Dataset.from_generator(gen, (tf.int32, tf.int32),\n",
    "                          (tf.TensorShape([BATCH_SIZE]),\n",
    "                          tf.TensorShape([BATCH_SIZE, 1])))\n",
    "optimizer = tf.train.GradientDescentOptimizer(LEARNING_RATE)\n",
    "# Create the model\n",
    "model = Word2Vec(VOCAB_SIZE, EMBED_SIZE)\n",
    "\n",
    "# Create the gradients function, using `tfe.implicit_value_and_gradients`\n",
    "grad_fn = tfe.implicit_value_and_gradients(model.compute_loss)\n",
    "\n",
    "total_loss = 0.0  # for average loss in the last SKIP_STEP steps\n",
    "num_train_steps = 0\n",
    "while num_train_steps < NUM_TRAIN_STEPS:\n",
    "    for center_words, target_words in tfe.Iterator(dataset):\n",
    "        if num_train_steps >= NUM_TRAIN_STEPS:\n",
    "            break\n",
    "        # Compute the loss and gradients, and take an optimization step.\n",
    "        loss_batch, grads = grad_fn(center_words, target_words)\n",
    "        total_loss += loss_batch\n",
    "        optimizer.apply_gradients(grads)\n",
    "\n",
    "        if (num_train_steps + 1) % SKIP_STEP == 0:\n",
    "            print('Average loss at step {}: {:5.1f}'.format(\n",
    "                    num_train_steps, total_loss / SKIP_STEP))\n",
    "            total_loss = 0.0\n",
    "        num_train_steps += 1"
   ]
  }
 ],
 "metadata": {
  "kernelspec": {
   "display_name": "Python 3",
   "language": "python",
   "name": "python3"
  },
  "language_info": {
   "codemirror_mode": {
    "name": "ipython",
    "version": 3
   },
   "file_extension": ".py",
   "mimetype": "text/x-python",
   "name": "python",
   "nbconvert_exporter": "python",
   "pygments_lexer": "ipython3",
   "version": "3.5.2"
  }
 },
 "nbformat": 4,
 "nbformat_minor": 2
}
